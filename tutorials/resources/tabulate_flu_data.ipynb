{
 "cells": [
  {
   "cell_type": "markdown",
   "metadata": {},
   "source": [
    "# Tabulate the flu data with sliding windows\n",
    "After the data is [preprocessed](preprocess_flu_data.ipynb),\n",
    "the resulting `.json` file processed further and turned into tabular `.csv` files that are saved. This is done by a sliding-window technique: the user specifies a sliding \n",
    "window to emulate cross sectional variables by setting the `LAG` constant below."
   ]
  },
  {
   "cell_type": "code",
   "execution_count": 1,
   "metadata": {
    "collapsed": true
   },
   "outputs": [],
   "source": [
    "import itertools\n",
    "import json\n",
    "import numpy as np\n",
    "import pandas as pd"
   ]
  },
  {
   "cell_type": "code",
   "execution_count": 2,
   "metadata": {
    "collapsed": true
   },
   "outputs": [],
   "source": [
    "def tabulate_array(series, lag):\n",
    "    values = np.asarray([series[i-lag:i] for i in xrange(lag, len(series)+1)])\n",
    "    return values"
   ]
  },
  {
   "cell_type": "code",
   "execution_count": 3,
   "metadata": {
    "collapsed": true
   },
   "outputs": [],
   "source": [
    "def tabulate_state(state, lag, censor=None):\n",
    "    with open('fludata/generated/Flu_Vacc_ILI_State_Aggregate.json', 'r') as f:\n",
    "        data = json.load(f)[state]\n",
    "    tweets = np.asarray([v[1] for v in data['No. of Tweets']])\n",
    "    vaccs = np.asarray([v[1] for v in data['Vaccination percentage % diff']])\n",
    "    ili = np.asarray([v[1] for v in data['ILI Rate']])\n",
    "    # Censor values using -1e-7 [as not to collide with nan, genuine missing]\n",
    "    if censor:\n",
    "        ili[censor] = -1e7\n",
    "    # vaccs must have one less entry, since it is a first difference.\n",
    "    assert len(tweets) == len(ili) == len(vaccs)+1\n",
    "    # Tabulate the series.\n",
    "    #  tweet: raw number.\n",
    "    #  ili: from percetnage to basis points.\n",
    "    #  vaccs: raw fraction to basis points.\n",
    "    tabular_tweets = tabulate_array(tweets[1:], lag)\n",
    "    tabular_vaccs = tabulate_array(1e4 * vaccs, lag)\n",
    "    tabular_ili = tabulate_array(1e2 * ili[1:], lag)\n",
    "    assert len(tabular_tweets) == len(tabular_vaccs) == len(tabular_ili)\n",
    "    # Create an overall matrix by column stacking and,\n",
    "    # ignoring rows with more than 1.5*lag missing values.\n",
    "    overall_raw = np.column_stack((tabular_tweets, tabular_vaccs, tabular_ili))\n",
    "    # keep = [np.sum(np.isnan(overall_raw), axis=1) < 5]\n",
    "    # overall = overall_raw[keep]\n",
    "    overall = overall_raw\n",
    "    # Return a dataframe.\n",
    "    columns = list(itertools.chain.from_iterable([\n",
    "        ['%s_t%d' % (c,i) for i in xrange(lag)] for c in ['tweets','vaccs','ili']\n",
    "    ]))\n",
    "    return pd.DataFrame(overall, columns=columns)"
   ]
  },
  {
   "cell_type": "code",
   "execution_count": 4,
   "metadata": {
    "collapsed": true
   },
   "outputs": [],
   "source": [
    "def get_filename(state, lag, censor):\n",
    "    censor_str = '_censor' if censor else ''\n",
    "    return 'fludata/generated/tabulated_flu_vacc_ili_%s_lag%d%s.csv' % (state, lag, censor_str)"
   ]
  },
  {
   "cell_type": "code",
   "execution_count": 5,
   "metadata": {
    "collapsed": true
   },
   "outputs": [],
   "source": [
    "# States with ILI data and their aggregate data.\n",
    "LAG = 5\n",
    "CENSOR = [10, 11, 12, 13, 24, 25, 26, 27, 37, 38, 39,]\n",
    "STATES = ['MA', 'MS', 'NC', 'RI', 'TX', 'TN',]\n",
    "TABLES = [tabulate_state(s, lag=LAG, censor=CENSOR) for s in STATES]\n",
    "for state, table in zip(STATES, TABLES):\n",
    "    with open(get_filename(state, LAG, CENSOR), 'w') as f:\n",
    "        table.to_csv(f, index=False)"
   ]
  },
  {
   "cell_type": "code",
   "execution_count": null,
   "metadata": {
    "collapsed": true
   },
   "outputs": [],
   "source": []
  }
 ],
 "metadata": {
  "kernelspec": {
   "display_name": "Python 2",
   "language": "python",
   "name": "python2"
  },
  "language_info": {
   "codemirror_mode": {
    "name": "ipython",
    "version": 2
   },
   "file_extension": ".py",
   "mimetype": "text/x-python",
   "name": "python",
   "nbconvert_exporter": "python",
   "pygments_lexer": "ipython2",
   "version": "2.7.6"
  }
 },
 "nbformat": 4,
 "nbformat_minor": 2
}
