{
 "cells": [
  {
   "cell_type": "code",
   "execution_count": 2,
   "metadata": {},
   "outputs": [
    {
     "name": "stdout",
     "output_type": "stream",
     "text": [
      "Successfully connected!"
     ]
    }
   ],
   "source": [
    "/connect -"
   ]
  },
  {
   "cell_type": "code",
   "execution_count": null,
   "metadata": {},
   "outputs": [
    {
     "name": "stdout",
     "output_type": "stream",
     "text": [
      "[\"/home/iclj/.m2/repository/org/clojure/clojure/1.9.0/clojure-1.9.0.jar\" \"/home/iclj/.m2/repository/org/clojure/core.specs.alpha/0.1.24/core.specs.alpha-0.1.24.jar\" \"/home/iclj/.m2/repository/net/sourceforge/jtransforms/jtransforms/2.4.0/jtransforms-2.4.0.jar\" \"/home/iclj/.m2/repository/redux/redux/0.1.3/redux-0.1.3.jar\" \"/home/iclj/.m2/repository/org/clojure/spec.alpha/0.1.143/spec.alpha-0.1.143.jar\" \"/home/iclj/.m2/repository/org/clojure/tools.cli/0.4.1/tools.cli-0.4.1.jar\" \"/home/iclj/.m2/repository/us/bpsm/edn-java/0.4.6/edn-java-0.4.6.jar\" \"/home/iclj/.m2/repository/net/sourceforge/parallelcolt/optimization/1.0/optimization-1.0.jar\" \"/home/iclj/.m2/repository/net/sourceforge/csparsej/csparsej/1.1.1/csparsej-1.1.1.jar\" \"/home/iclj/.m2/repository/com/googlecode/netlib-java/netlib-java/0.9.3/netlib-java-0.9.3.jar\" \"/home/iclj/.m2/repository/org/clojure/tools.macro/0.1.5/tools.macro-0.1.5.jar\" \"/home/iclj/.m2/repository/incanter/incanter-core/1.9.3/incanter-core-1.9.3.jar\" \"/home/iclj/.m2/repository/net/sourceforge/jplasma/core-lapack/0.1/core-lapack-0.1.jar\" \"/home/iclj/.m2/repository/com/github/rwl/BTFJ/1.0.1/BTFJ-1.0.1.jar\" \"/home/iclj/.m2/repository/com/github/rwl/COLAMDJ/1.0.1/COLAMDJ-1.0.1.jar\" \"/home/iclj/.m2/repository/net/mikera/clojure-utils/0.7.0/clojure-utils-0.7.0.jar\" \"/home/iclj/.m2/repository/com/github/rwl/JKLU/1.0.0/JKLU-1.0.0.jar\" \"/home/iclj/.m2/repository/kixi/stats/0.4.0/stats-0.4.0.jar\" \"/home/iclj/.m2/repository/org/clojure/math.combinatorics/0.1.4/math.combinatorics-0.1.4.jar\" \"/home/iclj/.m2/repository/junit/junit/4.8.2/junit-4.8.2.jar\" \"/home/iclj/.m2/repository/net/mikera/vectorz-clj/0.44.1/vectorz-clj-0.44.1.jar\" \"/home/iclj/.m2/repository/net/mikera/core.matrix/0.52.0/core.matrix-0.52.0.jar\" \"/home/iclj/.m2/repository/net/mikera/mathz/0.3.0/mathz-0.3.0.jar\" \"/home/iclj/.m2/repository/net/sourceforge/jplasma/jplasma/1.2.0/jplasma-1.2.0.jar\" \"/home/iclj/.m2/repository/net/mikera/vectorz/0.62.0/vectorz-0.62.0.jar\" \"/home/iclj/.m2/repository/com/github/rwl/AMDJ/1.0.1/AMDJ-1.0.1.jar\" \"/home/iclj/.m2/repository/net/sourceforge/parallelcolt/parallelcolt/0.10.1/parallelcolt-0.10.1.jar\" \"/home/iclj/.m2/repository/org/clojure/test.check/0.9.0/test.check-0.9.0.jar\" \"/home/iclj/.m2/repository/net/mikera/randomz/0.3.0/randomz-0.3.0.jar\" \"/home/iclj/.m2/repository/net/sourceforge/f2j/arpack_combined_all/0.1/arpack_combined_all-0.1.jar\" \"/home/iclj/.m2/repository/com/tdunning/t-digest/3.2/t-digest-3.2.jar\"] added to the classpath!"
     ]
    }
   ],
   "source": [
    "/cp {:deps {probcomp/metaprob {:git/url \"https://github.com/probcomp/metaprob.git\"\n",
    "                               :sha \"7d40086d486ed452829bce6d8125fbeee691a9a6\"}}}"
   ]
  },
  {
   "cell_type": "code",
   "execution_count": 4,
   "metadata": {},
   "outputs": [
    {
     "ename": "Oops",
     "evalue": "",
     "output_type": "error",
     "traceback": [
      "Exception while evaluating the expression.",
      "#unrepl/browsable\n  \u001b[2m[\u001b[22m\u001b[31m#error\u001b[m\n     \u001b[2m{\u001b[22m\u001b[36m:via\u001b[m \u001b[2m[\u001b[22m\u001b[2m{\u001b[22m\u001b[36m:type\u001b[m java.io.FileNotFoundException\u001b[2m,\u001b[22m\n             \u001b[36m:message\u001b[m\n               \"Could not locate metaprob/trace__init.class, metaprob/trace.clj or metaprob/trac\"\u001b[4m/1\u001b[m\u001b[2m,\u001b[22m\n             \u001b[36m:at\u001b[m \u001b[2m[\u001b[22mclojure.lang.RT load \"RT.java\" 466\u001b[2m]\u001b[22m\u001b[2m}\u001b[22m\u001b[2m]\u001b[22m\u001b[2m,\u001b[22m\n      \u001b[36m:trace\u001b[m \u001b[2m[\u001b[22m\u001b[2m[\u001b[22mclojure.lang.RT load \"RT.java\" 466\u001b[2m]\u001b[22m\n              \u001b[2m[\u001b[22mclojure.lang.RT load \"RT.java\" 428\u001b[2m]\u001b[22m\n              \u001b[2m[\u001b[22mclojure.core$load$fn__6824 invoke \"core.clj\" 6126\u001b[2m]\u001b[22m\n              \u001b[2m[\u001b[22mclojure.core$load invokeStatic \"core.clj\" 6125\u001b[2m]\u001b[22m\n              \u001b[2m[\u001b[22mclojure.core$load doInvoke \"core.clj\" 6109\u001b[2m]\u001b[22m\n              \u001b[2m[\u001b[22mclojure.lang.RestFn invoke \"RestFn.java\" 408\u001b[2m]\u001b[22m\n              \u001b[2m[\u001b[22mclojure.core$load_one invokeStatic \"core.clj\" 5908\u001b[2m]\u001b[22m\n              \u001b[2m[\u001b[22mclojure.core$load_one invoke \"core.clj\" 5903\u001b[2m]\u001b[22m\n              \u001b[2m[\u001b[22mclojure.core$load_lib$fn__6765 invoke \"core.clj\" 5948\u001b[2m]\u001b[22m\n              \u001b[2m[\u001b[22mclojure.core$load_lib invokeStatic \"core.clj\" 5947\u001b[2m]\u001b[22m \u001b[4m/2\u001b[m\u001b[2m]\u001b[22m\u001b[2m,\u001b[22m\n      \u001b[36m:cause\u001b[m\n        \"Could not locate metaprob/trace__init.class, metaprob/trace.clj or metaprob/trac\"\u001b[4m/3\u001b[m\u001b[2m}\u001b[22m\n   \u001b[4m/4\u001b[m\u001b[2m]\u001b[22m\n"
     ]
    }
   ],
   "source": [
    "(require '[metaprob.trace :as trace])"
   ]
  },
  {
   "cell_type": "code",
   "execution_count": null,
   "metadata": {},
   "outputs": [],
   "source": []
  }
 ],
 "metadata": {
  "kernelspec": {
   "display_name": "IClojure",
   "language": "iclojure",
   "name": "iclojure"
  },
  "language_info": {
   "file_extension": ".clj",
   "mimetype": "text/x-clojure",
   "name": "clojure",
   "version": "1.10.0"
  }
 },
 "nbformat": 4,
 "nbformat_minor": 2
}
